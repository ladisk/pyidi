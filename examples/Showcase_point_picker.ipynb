{
 "cells": [
  {
   "cell_type": "markdown",
   "metadata": {},
   "source": [
    "# Tutorial on how to automatically select good features to track"
   ]
  },
  {
   "cell_type": "code",
   "execution_count": null,
   "metadata": {},
   "outputs": [],
   "source": [
    "import os\n",
    "import sys\n",
    "repo_root = os.path.abspath(\"..\")\n",
    "sys.path.insert(0, repo_root)\n",
    "\n",
    "import numpy as np\n",
    "import matplotlib.pyplot as plt\n",
    "import pyidi"
   ]
  },
  {
   "cell_type": "markdown",
   "metadata": {},
   "source": [
    "Load the video"
   ]
  },
  {
   "cell_type": "code",
   "execution_count": null,
   "metadata": {},
   "outputs": [],
   "source": [
    "filename = '../data/data_synthetic.cih'\n",
    "video = pyidi.VideoReader(filename)"
   ]
  },
  {
   "cell_type": "markdown",
   "metadata": {},
   "source": [
    "### `Lucas Kanade` method as a reference"
   ]
  },
  {
   "cell_type": "code",
   "execution_count": null,
   "metadata": {},
   "outputs": [],
   "source": [
    "tol = 1e-8\n",
    "roi_size = (5,5)\n",
    "idi_lk = pyidi.LucasKanade(video)\n",
    "idi_lk.configure(reference_image = (0,100), resume_analysis = False, tol=tol, roi_size=roi_size)\n",
    "reference_image = idi_lk._set_reference_image(video, idi_lk.reference_image)"
   ]
  },
  {
   "cell_type": "markdown",
   "metadata": {},
   "source": [
    "### Generate a score image\n",
    "- Initialize the Feature Selector\n",
    "- Set a filter type\n",
    "- Set roi_size. Either directly in set_filter or trough set_roi\n",
    "- Apply filter to generate the score_image (saved in feature_selector.score_image)\n",
    "\n",
    "All available methods are listed when initializing the FeatureSelector, unless verbose = False"
   ]
  },
  {
   "cell_type": "code",
   "execution_count": null,
   "metadata": {},
   "outputs": [],
   "source": [
    "from pyidi.Automatic_selection.feature_selector import FeatureSelector\n",
    "feature_selector = FeatureSelector(reference_image)\n",
    "\n",
    "feature_selector.set_filter('ST', roi_size = roi_size)\n",
    "# feature_selector.set_filter('DF', dij=(1, 0), c = 0.1)\n",
    "# feature_selector.set_filter('HARRIS', alpha = 0.04)\n",
    "# feature_selector.set_filter('TRIGGS', alpha = 0.05)\n",
    "# feature_selector.set_filter('HM')\n",
    "\n",
    "feature_selector.set_roi(roi_size)\n",
    "\n",
    "feature_selector.apply_filter()"
   ]
  },
  {
   "cell_type": "markdown",
   "metadata": {},
   "source": [
    "- Set a picker and parse parameters\n",
    "- Pick features. If no score_image is generated yet, pick_points() will call apply_filter() to generate one. pick_points() will also take a score_image directly, like this: pick_points(score_image)."
   ]
  },
  {
   "cell_type": "code",
   "execution_count": null,
   "metadata": {},
   "outputs": [],
   "source": [
    "%matplotlib inline\n",
    "feature_selector.set_picker('LM', min_distance = 10, n_points = 50)\n",
    "# feature_selector.set_picker('ANMS', n_points=50)\n",
    "# feature_selector.set_picker('DS', n_points=50, min_distance = 7, min_score = 50)\n",
    "points = feature_selector.pick_points()\n",
    "\n",
    "fig, ax = plt.subplots(2)\n",
    "ax[0].imshow(reference_image, cmap = 'grey')\n",
    "ax[0].plot(points[:,1], points[:,0], 'x')\n",
    "ax[1].imshow(feature_selector.score_image, cmap = 'grey')\n",
    "ax[1].plot(points[:,1], points[:,0], 'x')\n",
    "plt.show()"
   ]
  },
  {
   "cell_type": "markdown",
   "metadata": {},
   "source": [
    "### Masking\n",
    "I had been using ROIselect (now SubsetSelection) to generate a ROI polygon. I only select features inside of the ROI\n",
    "\n",
    "I think will think about how to include this more elegantly in the pipeline, but here is an example below"
   ]
  },
  {
   "cell_type": "code",
   "execution_count": null,
   "metadata": {},
   "outputs": [],
   "source": [
    "# from pyidi.GUIs.selection import SubsetSelection\n",
    "from matplotlib.path import Path\n",
    "\n",
    "# roi_select = SubsetSelection(video)\n",
    "# roi_select.polygon\n",
    "# polygon_new = np.array(roi_select.polygon)\n",
    "\n",
    "polygon = np.array([[4, 4, 97, 98, 4], [25, 218, 219, 25, 25]])\n",
    "path = Path(polygon.T)\n",
    "\n",
    "\n",
    "mask_image = path.contains_points(np.array([(i,j) for i in range(reference_image.shape[0]) for j in range(reference_image.shape[1])])).reshape(reference_image.shape)\n",
    "mask_image = mask_image.reshape(reference_image.shape)\n",
    "\n",
    "score_image = feature_selector.score_image\n",
    "score_image[~mask_image] = 0\n",
    "\n",
    "points = feature_selector.pick_points()\n",
    "\n",
    "fig, ax = plt.subplots(2)\n",
    "ax[0].imshow(reference_image, cmap = 'grey')\n",
    "ax[0].plot(points[:,1], points[:,0], 'x')\n",
    "ax[1].imshow(score_image, cmap = 'grey')\n",
    "ax[1].plot(points[:,1], points[:,0], 'x')\n",
    "plt.show()"
   ]
  }
 ],
 "metadata": {
  "hide_input": false,
  "kernelspec": {
   "display_name": "pyidi-env",
   "language": "python",
   "name": "python3"
  },
  "language_info": {
   "codemirror_mode": {
    "name": "ipython",
    "version": 3
   },
   "file_extension": ".py",
   "mimetype": "text/x-python",
   "name": "python",
   "nbconvert_exporter": "python",
   "pygments_lexer": "ipython3",
   "version": "3.10.18"
  },
  "toc": {
   "base_numbering": 1,
   "nav_menu": {},
   "number_sections": true,
   "sideBar": true,
   "skip_h1_title": false,
   "title_cell": "Table of Contents",
   "title_sidebar": "Contents",
   "toc_cell": false,
   "toc_position": {},
   "toc_section_display": true,
   "toc_window_display": false
  }
 },
 "nbformat": 4,
 "nbformat_minor": 2
}
